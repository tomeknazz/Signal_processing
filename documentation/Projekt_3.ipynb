{
 "cells": [
  {
   "cell_type": "markdown",
   "id": "f9cc2f07-4072-4e4a-9a08-67480c8a2e8f",
   "metadata": {},
   "source": [
    "# Techniki programowania - projekt 3\n",
    "<li>Tomasz Nazar 197613\n",
    "<li>Łukasz Orluk 197641</li>\n",
    "\n",
    "## Użyte biblioteki\n",
    "### C++\n",
    "<ol>\n",
    "    <li>\n",
    "        <a href=\"https://github.com/pybind/pybind11\">pybind11</a>\n",
    "    </li>\n",
    "    <li>\n",
    "        <a href=\"https://github.com/alandefreitas/matplotplusplus\">Matplot++</a>\n",
    "    </li>\n",
    "    <li>\n",
    "        cmath\n",
    "    </li>\n",
    "    <li>\n",
    "        vector\n",
    "    </li>\n",
    "    <li>\n",
    "        complex\n",
    "    </li>\n",
    "    <li>\n",
    "        iostream\n",
    "    </li>\n",
    "</ol>\n",
    "\n",
    "### Python\n",
    "<ol>\n",
    "    <li>\n",
    "        sys\n",
    "    </li>\n",
    "    <li>\n",
    "        <a href=\"https://scipy.org/\">SciPy</a>\n",
    "    </li>\n",
    "</ol>\n",
    "\n",
    "<strong>Program posiada menu dla użytkownika, jednak w tej dokumentacji zostaną przedstawione surowe funkcjonalności kodu.</strong>\n",
    "\n",
    "Ponadto dokumentacja będzie zakładała poprawne zaimportowanie biblioteki do Pythona oraz zbudowanie modułu pybind przez CMake:\n",
    "\n",
    "\n",
    "\n"
   ]
  },
  {
   "cell_type": "code",
   "execution_count": 2,
   "id": "7a22f955-1428-4ecd-8cf5-b6947f5f4e61",
   "metadata": {},
   "outputs": [],
   "source": [
    "#Biblioteki dołączone do pliku main.py\n",
    "import sys\n",
    "from scipy.io import wavfile\n",
    "sys.path.append('out/build/x64-debug')\n",
    "import Signal as sgn"
   ]
  },
  {
   "cell_type": "markdown",
   "id": "a96cf3d4-36c0-479b-b3bc-73675515790c",
   "metadata": {},
   "source": [
    "# Zaimplementowane funckjonalności"
   ]
  },
  {
   "cell_type": "markdown",
   "id": "2b13e7b9-0f31-4512-ac53-577449c05695",
   "metadata": {},
   "source": [
    "## Generowanie sygnałów o zadanej częstotliwości i amplitudzie\n",
    "Program jest zdolny do wygenerowania i wyświetlenia różnych typów sygnałów.\n"
   ]
  },
  {
   "cell_type": "markdown",
   "id": "cdb5eaff-a9d3-4359-b796-2c84716f8425",
   "metadata": {},
   "source": [
    "### Sygnał sinusoidalny"
   ]
  },
  {
   "cell_type": "code",
   "execution_count": 6,
   "id": "13326250-e672-44fb-baad-a1deebffe8c3",
   "metadata": {},
   "outputs": [],
   "source": [
    "# sin_wave(amplitude,frequency)\n",
    "sgn.sin_wave(2.0,3.0)"
   ]
  },
  {
   "cell_type": "markdown",
   "id": "a36f06a1-aee7-4c0c-a4c8-b08eeb9c7873",
   "metadata": {},
   "source": [
    "![sin_wave](sin_wave.png)"
   ]
  },
  {
   "cell_type": "markdown",
   "id": "8c4a668e-93ba-438c-a3bb-b221083765bb",
   "metadata": {},
   "source": [
    "### Sygnał cosinusoidalny"
   ]
  },
  {
   "cell_type": "code",
   "execution_count": 7,
   "id": "f4df704b-ad75-4f54-9f89-d9bb0aea0f39",
   "metadata": {},
   "outputs": [],
   "source": [
    "# cos_wave(amplitude,frequency)\n",
    "sgn.cos_wave(1.0,2.0)"
   ]
  },
  {
   "cell_type": "markdown",
   "id": "8121c491-bb66-4e04-a74e-ee47737ea8ee",
   "metadata": {},
   "source": [
    "![cos_wave](cos_wave.png)"
   ]
  },
  {
   "cell_type": "markdown",
   "id": "a9b05d83-9478-40b8-b206-ededc722830d",
   "metadata": {},
   "source": [
    "### Sygnał prostokątny"
   ]
  },
  {
   "cell_type": "code",
   "execution_count": 8,
   "id": "ea8c1358-1171-46b1-a17d-ed3f1ebf328b",
   "metadata": {},
   "outputs": [],
   "source": [
    "# square_wave(amplitude,frequency)\n",
    "sgn.square_wave(2.5,2.5)"
   ]
  },
  {
   "cell_type": "markdown",
   "id": "818e212e-0c85-47f7-86aa-4ac41ec8a332",
   "metadata": {},
   "source": [
    "![square_wave](square_wave.png)"
   ]
  },
  {
   "cell_type": "markdown",
   "id": "4642b0f6-4a6f-4037-9ef7-89cac4eac24f",
   "metadata": {},
   "source": [
    "### Sygnał piłokształtny"
   ]
  },
  {
   "cell_type": "code",
   "execution_count": 11,
   "id": "2c3a90c2-30ce-46db-b6f8-1d584334ccff",
   "metadata": {},
   "outputs": [],
   "source": [
    "# sawtooth_wave(amplitude,frequency)\n",
    "sgn.sawtooth_wave(1.0,4.0)"
   ]
  },
  {
   "cell_type": "markdown",
   "id": "1e7b8869-aef0-4a56-bf97-0ed0f98430d9",
   "metadata": {},
   "source": [
    "![sawtooth_wave](sawtooth_wave.png)"
   ]
  },
  {
   "cell_type": "markdown",
   "id": "3f36f062-463e-4308-a91a-2605b57ac5a6",
   "metadata": {},
   "source": [
    "## Wizualizacja sygnału\n",
    "Program jest w stanie zwizualizować daną liczbę sampli w pliku dźwiękowym .wav."
   ]
  },
  {
   "cell_type": "code",
   "execution_count": null,
   "id": "7212ce08-de8a-4c97-8145-d05a984b770d",
   "metadata": {},
   "outputs": [],
   "source": [
    "#load_wav(samples, filename=\"Classical.wav\")\n",
    "load_wav(2000)"
   ]
  },
  {
   "cell_type": "markdown",
   "id": "1f66c5cb-6183-4c8a-bddd-b760dbef3431",
   "metadata": {},
   "source": [
    "![load_wav](load_wav.png)"
   ]
  },
  {
   "cell_type": "markdown",
   "id": "d4208ca4-9431-4707-bbc5-112e3f1d6307",
   "metadata": {},
   "source": [
    "## Dyskretna transformata Fouriera i jej odwrotność\n",
    "\n",
    "Program jest w stanie wyznaczyć transformatę Fouriera sygnału oraz jej odwrotność. W tym przypadku sygnałem dostarczanym do funkcji obliczającą transformatę jest <strong>amplitude&#8270;cos(2&#8270;pi&#8270;frequency&#8270;t) + 5&#8270;amplitude&#8270;sin(2&#8270;pi&#8270;5&#8270;frequency&#8270;t)</strong>. Jest on tworzony przez funckję create_signal_for_dft w pliku cpp. Po obliczeniu transformaty program przystępuje do wyznaczenia jej odwrotności."
   ]
  },
  {
   "cell_type": "code",
   "execution_count": null,
   "id": "dcee919e-c637-4856-97c5-eccc9bcb031e",
   "metadata": {},
   "outputs": [],
   "source": [
    "#DFT(amplitude, frequency)\n",
    "sgn.DFT(1.0,10.0)"
   ]
  },
  {
   "cell_type": "markdown",
   "id": "f54a0419-2646-4de0-b9ef-125c128a2bc6",
   "metadata": {},
   "source": [
    "### Transformata Fouriera"
   ]
  },
  {
   "cell_type": "markdown",
   "id": "363e1aa4-c0b9-42d0-823e-0366e27e05e0",
   "metadata": {},
   "source": [
    "![dft_1](dft_1.png)"
   ]
  },
  {
   "cell_type": "markdown",
   "id": "feb03b8f-6f11-4f54-897f-7fd47263cc06",
   "metadata": {},
   "source": [
    "### Transformata odwrotna"
   ]
  },
  {
   "cell_type": "markdown",
   "id": "f42bb55d-c035-4b8b-bea9-d54413bc2d5f",
   "metadata": {},
   "source": [
    "![dft_inverse_1](dft_inverse_1.png)"
   ]
  },
  {
   "cell_type": "code",
   "execution_count": null,
   "id": "57f6be85-4f0e-438c-aa73-45e41aa048bd",
   "metadata": {},
   "outputs": [],
   "source": [
    "sgn.DFT(1.0,1.0)"
   ]
  },
  {
   "cell_type": "markdown",
   "id": "d0f324e3-2272-437c-9f97-31d026e82e17",
   "metadata": {},
   "source": [
    "### Transformata Fouriera"
   ]
  },
  {
   "cell_type": "markdown",
   "id": "a5eae382-7f3f-4d44-88d7-7d390fdb9c57",
   "metadata": {},
   "source": [
    "![dft_2](dft_2.png)"
   ]
  },
  {
   "cell_type": "markdown",
   "id": "6dda4970-3d99-40e2-ac18-19156fdb3508",
   "metadata": {},
   "source": [
    "### Transformata odwrotna"
   ]
  },
  {
   "cell_type": "markdown",
   "id": "186483ba-8b08-420d-b8d5-3e3e5d1e0f13",
   "metadata": {},
   "source": [
    "![dft_inverse_2](dft_inverse_2.png)"
   ]
  },
  {
   "cell_type": "markdown",
   "id": "89a60b4f-bf7f-46a1-a08b-7a2ca72ae27b",
   "metadata": {},
   "source": [
    "## Wyszukiwanie piku w sygnale\n",
    "Program jest w stanie wygenerować sygnał sinusoidalny z pikami o losowych wysokościach i położeniu. Następnie jest on w stanie je zlokalizować podając do funkcji peak_in_signal vektor z niedoskonałym sygnałem oraz wskazać ich miejsce."
   ]
  },
  {
   "cell_type": "code",
   "execution_count": null,
   "id": "17a8f0b0-24e1-4ff7-9e6d-f4025afa8743",
   "metadata": {},
   "outputs": [],
   "source": [
    "sgn.peak()"
   ]
  },
  {
   "cell_type": "markdown",
   "id": "b8928ede-d9d3-4a67-9e2c-cb6c120762e5",
   "metadata": {},
   "source": [
    "![signal_with_peaks](signal_with_peaks.png)"
   ]
  },
  {
   "cell_type": "markdown",
   "id": "08998dea-3588-4aae-b49c-e7a7765a0091",
   "metadata": {},
   "source": [
    "### Output:"
   ]
  },
  {
   "cell_type": "code",
   "execution_count": null,
   "id": "e405ffe6-f462-47bb-8aab-f3358bf30be3",
   "metadata": {},
   "outputs": [],
   "source": [
    "Peaks found:\n",
    "Peak value: 9.73146 at index: 1169 (time: 1.22417)\n",
    "Peak value: 9.89349 at index: 2500 (time: 2.61799)\n",
    "Peak value: 8.22239 at index: 3724 (time: 3.89976)\n",
    "Peak value: 11.9916 at index: 5358 (time: 5.61088)\n",
    "Peak value: 8.42912 at index: 5478 (time: 5.73655)\n",
    "No troughs found."
   ]
  }
 ],
 "metadata": {
  "kernelspec": {
   "display_name": "Python 3 (ipykernel)",
   "language": "python",
   "name": "python3"
  },
  "language_info": {
   "codemirror_mode": {
    "name": "ipython",
    "version": 3
   },
   "file_extension": ".py",
   "mimetype": "text/x-python",
   "name": "python",
   "nbconvert_exporter": "python",
   "pygments_lexer": "ipython3",
   "version": "3.11.6"
  }
 },
 "nbformat": 4,
 "nbformat_minor": 5
}
