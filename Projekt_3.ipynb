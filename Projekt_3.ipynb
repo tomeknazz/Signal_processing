{
 "cells": [
  {
   "cell_type": "markdown",
   "id": "f9cc2f07-4072-4e4a-9a08-67480c8a2e8f",
   "metadata": {},
   "source": [
    "# Techniki programowania - projekt 3\n",
    "<li>Tomasz Nazar 197613\n",
    "<li>Łukasz Orluk 197641</li>\n",
    "\n",
    "## Użyte biblioteki\n",
    "### C++\n",
    "<ol>\n",
    "    <li>\n",
    "        <a href=\"https://github.com/pybind/pybind11\">pybind11</a>\n",
    "    </li>\n",
    "    <li>\n",
    "        <a href=\"https://github.com/alandefreitas/matplotplusplus\">Matplot++</a>\n",
    "    </li>\n",
    "    <li>\n",
    "        cmath\n",
    "    </li>\n",
    "    <li>\n",
    "        vector\n",
    "    </li>\n",
    "    <li>\n",
    "        complex\n",
    "    </li>\n",
    "    <li>\n",
    "        iostream\n",
    "    </li>\n",
    "</ol>\n",
    "\n",
    "### Python\n",
    "<ol>\n",
    "    <li>\n",
    "        sys\n",
    "    </li>\n",
    "    <li>\n",
    "        <a href=\"https://scipy.org/\">SciPy</a>\n",
    "    </li>\n",
    "</ol>\n",
    "\n",
    "<strong>Program posiada menu dla użytkownika, jednak w tej dokumentacji zostaną przedstawione surowe funkcjonalności kodu.</strong>\n",
    "\n",
    "Ponadto dokumentacja będzie zakładała poprawne zaimportowanie biblioteki do Pythona oraz C++:\n",
    "\n",
    "\n",
    "\n"
   ]
  },
  {
   "cell_type": "code",
   "execution_count": 2,
   "id": "7a22f955-1428-4ecd-8cf5-b6947f5f4e61",
   "metadata": {},
   "outputs": [],
   "source": [
    "import sys\n",
    "from scipy.io import wavfile\n",
    "sys.path.append('out/build/x64-debug')\n",
    "import Signal as sgn"
   ]
  },
  {
   "cell_type": "raw",
   "id": "14120935-7bc9-404d-b960-e94324212fd0",
   "metadata": {},
   "source": [
    "#include \"pybind11/pybind11.h\"\n",
    "#include <pybind11/stl.h>\n",
    "#include <matplot/matplot.h>\n",
    "#include <cmath>\n",
    "#include <complex>\n",
    "#include <vector>\n",
    "#include <iostream>"
   ]
  },
  {
   "cell_type": "markdown",
   "id": "a96cf3d4-36c0-479b-b3bc-73675515790c",
   "metadata": {},
   "source": [
    "# Zaimplementowane funckjonalności"
   ]
  },
  {
   "cell_type": "markdown",
   "id": "2b13e7b9-0f31-4512-ac53-577449c05695",
   "metadata": {},
   "source": [
    "## Generowanie sygnałów o zadanej częstotliwości i amplitudzie\n",
    "Program jest zdolny do wygenerowania i wyświetlenia różnych typów sygnałów.\n",
    "### Sygnał sinusoidalny"
   ]
  },
  {
   "cell_type": "code",
   "execution_count": 6,
   "id": "13326250-e672-44fb-baad-a1deebffe8c3",
   "metadata": {},
   "outputs": [],
   "source": [
    "# sin_wave(amplitude,frequency)\n",
    "sgn.sin_wave(2.0,3.0)"
   ]
  },
  {
   "cell_type": "markdown",
   "id": "a36f06a1-aee7-4c0c-a4c8-b08eeb9c7873",
   "metadata": {},
   "source": [
    "<img src=\"doc_images/sin_wave.png\"/>"
   ]
  },
  {
   "cell_type": "markdown",
   "id": "8c4a668e-93ba-438c-a3bb-b221083765bb",
   "metadata": {},
   "source": [
    "### Sygnał cosinusoidalny"
   ]
  },
  {
   "cell_type": "code",
   "execution_count": 7,
   "id": "f4df704b-ad75-4f54-9f89-d9bb0aea0f39",
   "metadata": {},
   "outputs": [],
   "source": [
    "# cos_wave(amplitude,frequency)\n",
    "sgn.cos_wave(1.0,2.0)"
   ]
  },
  {
   "cell_type": "code",
   "execution_count": null,
   "id": "73e6eef9-0982-47ad-b9f3-401ad9f9e6a3",
   "metadata": {},
   "outputs": [],
   "source": []
  }
 ],
 "metadata": {
  "kernelspec": {
   "display_name": "Python 3 (ipykernel)",
   "language": "python",
   "name": "python3"
  },
  "language_info": {
   "codemirror_mode": {
    "name": "ipython",
    "version": 3
   },
   "file_extension": ".py",
   "mimetype": "text/x-python",
   "name": "python",
   "nbconvert_exporter": "python",
   "pygments_lexer": "ipython3",
   "version": "3.11.6"
  }
 },
 "nbformat": 4,
 "nbformat_minor": 5
}
